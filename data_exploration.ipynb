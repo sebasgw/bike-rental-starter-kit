{
 "cells": [
  {
   "cell_type": "markdown",
   "id": "142a7f60",
   "metadata": {},
   "source": [
    "### Import libraries"
   ]
  },
  {
   "cell_type": "code",
   "execution_count": 133,
   "id": "9655652f",
   "metadata": {},
   "outputs": [],
   "source": [
    "import pandas as pd\n",
    "import os"
   ]
  },
  {
   "cell_type": "markdown",
   "id": "ca332922",
   "metadata": {},
   "source": [
    "### Read and concat citibike data in one dataframe"
   ]
  },
  {
   "cell_type": "code",
   "execution_count": 134,
   "id": "b45dfcf0",
   "metadata": {},
   "outputs": [],
   "source": [
    "citi_bike_dir = './data'\n",
    "files = []\n",
    "\n",
    "for file in os.listdir(citi_bike_dir):\n",
    "    with open(os.path.join(citi_bike_dir, file)) as f:\n",
    "        if 'citibike' in file:\n",
    "            dataframe = pd.read_csv(f'{citi_bike_dir}/{file}')\n",
    "            files.append(dataframe)\n",
    "\n",
    "citi_bike_df = pd.concat(files, ignore_index=True)"
   ]
  },
  {
   "cell_type": "markdown",
   "id": "8354b457",
   "metadata": {},
   "source": [
    "### Transform and clean data"
   ]
  },
  {
   "cell_type": "code",
   "execution_count": 135,
   "id": "7fb1b72f",
   "metadata": {},
   "outputs": [],
   "source": [
    "citi_bike_df = citi_bike_df.rename(columns={\n",
    "                                            'Trip Duration':'trip_duration',\n",
    "                                            'Start Time':'start_time',\n",
    "                                            'Stop Time':'stop_time',\n",
    "                                            'Start Station ID':'start_station_id',\n",
    "                                            'Start Station Name':'start_station_name',\n",
    "                                            'Start Station Latitude':'start_station_latitude',\n",
    "                                            'Start Station Longitude':'start_station_longitude',\n",
    "                                            'End Station ID':'end_station_id',\n",
    "                                            'End Station Name':'end_station_name',\n",
    "                                            'End Station Latitude':'start_station_latitude',\n",
    "                                            'End Station Longitude':'start_station_longitude',\n",
    "                                            'Bike ID':'bike_id',\n",
    "                                            'User Type':'user_type',\n",
    "                                            'Birth Year':'birth_year',\n",
    "                                            'Gender':'gender'\n",
    "})"
   ]
  },
  {
   "cell_type": "code",
   "execution_count": 136,
   "id": "d5ed51bf",
   "metadata": {},
   "outputs": [
    {
     "data": {
      "application/vnd.microsoft.datawrangler.viewer.v0+json": {
       "columns": [
        {
         "name": "index",
         "rawType": "int64",
         "type": "integer"
        },
        {
         "name": "trip_duration",
         "rawType": "int64",
         "type": "integer"
        },
        {
         "name": "start_time",
         "rawType": "object",
         "type": "string"
        },
        {
         "name": "stop_time",
         "rawType": "object",
         "type": "string"
        },
        {
         "name": "start_station_id",
         "rawType": "int64",
         "type": "integer"
        },
        {
         "name": "start_station_name",
         "rawType": "object",
         "type": "string"
        },
        {
         "name": "start_station_latitude",
         "rawType": "float64",
         "type": "float"
        },
        {
         "name": "start_station_longitude",
         "rawType": "float64",
         "type": "float"
        },
        {
         "name": "end_station_id",
         "rawType": "int64",
         "type": "integer"
        },
        {
         "name": "end_station_name",
         "rawType": "object",
         "type": "string"
        },
        {
         "name": "start_station_latitude",
         "rawType": "float64",
         "type": "float"
        },
        {
         "name": "start_station_longitude",
         "rawType": "float64",
         "type": "float"
        },
        {
         "name": "bike_id",
         "rawType": "int64",
         "type": "integer"
        },
        {
         "name": "user_type",
         "rawType": "object",
         "type": "string"
        },
        {
         "name": "birth_year",
         "rawType": "float64",
         "type": "float"
        },
        {
         "name": "gender",
         "rawType": "int64",
         "type": "integer"
        }
       ],
       "ref": "71383421-4d7d-4aa0-8a72-dfec03456c81",
       "rows": [
        [
         "0",
         "362",
         "2016-01-01 00:02:52",
         "2016-01-01 00:08:54",
         "3186",
         "Grove St PATH",
         "40.71958611647166",
         "-74.04311746358871",
         "3209",
         "Brunswick St",
         "40.7241765",
         "-74.0506564",
         "24647",
         "Subscriber",
         "1964.0",
         "2"
        ],
        [
         "1",
         "200",
         "2016-01-01 00:18:22",
         "2016-01-01 00:21:42",
         "3186",
         "Grove St PATH",
         "40.71958611647166",
         "-74.04311746358871",
         "3213",
         "Van Vorst Park",
         "40.71848892",
         "-74.047726625",
         "24605",
         "Subscriber",
         "1962.0",
         "1"
        ],
        [
         "2",
         "202",
         "2016-01-01 00:18:25",
         "2016-01-01 00:21:47",
         "3186",
         "Grove St PATH",
         "40.71958611647166",
         "-74.04311746358871",
         "3213",
         "Van Vorst Park",
         "40.71848892",
         "-74.047726625",
         "24689",
         "Subscriber",
         "1962.0",
         "2"
        ],
        [
         "3",
         "248",
         "2016-01-01 00:23:13",
         "2016-01-01 00:27:21",
         "3209",
         "Brunswick St",
         "40.7241765",
         "-74.0506564",
         "3203",
         "Hamilton Park",
         "40.727595966",
         "-74.044247311",
         "24693",
         "Subscriber",
         "1984.0",
         "1"
        ],
        [
         "4",
         "903",
         "2016-01-01 01:03:20",
         "2016-01-01 01:18:24",
         "3195",
         "Sip Ave",
         "40.73074262530658",
         "-74.06378388404846",
         "3210",
         "Pershing Field",
         "40.742677141",
         "-74.051788633",
         "24573",
         "Customer",
         null,
         "0"
        ]
       ],
       "shape": {
        "columns": 15,
        "rows": 5
       }
      },
      "text/html": [
       "<div>\n",
       "<style scoped>\n",
       "    .dataframe tbody tr th:only-of-type {\n",
       "        vertical-align: middle;\n",
       "    }\n",
       "\n",
       "    .dataframe tbody tr th {\n",
       "        vertical-align: top;\n",
       "    }\n",
       "\n",
       "    .dataframe thead th {\n",
       "        text-align: right;\n",
       "    }\n",
       "</style>\n",
       "<table border=\"1\" class=\"dataframe\">\n",
       "  <thead>\n",
       "    <tr style=\"text-align: right;\">\n",
       "      <th></th>\n",
       "      <th>trip_duration</th>\n",
       "      <th>start_time</th>\n",
       "      <th>stop_time</th>\n",
       "      <th>start_station_id</th>\n",
       "      <th>start_station_name</th>\n",
       "      <th>start_station_latitude</th>\n",
       "      <th>start_station_longitude</th>\n",
       "      <th>end_station_id</th>\n",
       "      <th>end_station_name</th>\n",
       "      <th>start_station_latitude</th>\n",
       "      <th>start_station_longitude</th>\n",
       "      <th>bike_id</th>\n",
       "      <th>user_type</th>\n",
       "      <th>birth_year</th>\n",
       "      <th>gender</th>\n",
       "    </tr>\n",
       "  </thead>\n",
       "  <tbody>\n",
       "    <tr>\n",
       "      <th>0</th>\n",
       "      <td>362</td>\n",
       "      <td>2016-01-01 00:02:52</td>\n",
       "      <td>2016-01-01 00:08:54</td>\n",
       "      <td>3186</td>\n",
       "      <td>Grove St PATH</td>\n",
       "      <td>40.719586</td>\n",
       "      <td>-74.043117</td>\n",
       "      <td>3209</td>\n",
       "      <td>Brunswick St</td>\n",
       "      <td>40.724176</td>\n",
       "      <td>-74.050656</td>\n",
       "      <td>24647</td>\n",
       "      <td>Subscriber</td>\n",
       "      <td>1964.0</td>\n",
       "      <td>2</td>\n",
       "    </tr>\n",
       "    <tr>\n",
       "      <th>1</th>\n",
       "      <td>200</td>\n",
       "      <td>2016-01-01 00:18:22</td>\n",
       "      <td>2016-01-01 00:21:42</td>\n",
       "      <td>3186</td>\n",
       "      <td>Grove St PATH</td>\n",
       "      <td>40.719586</td>\n",
       "      <td>-74.043117</td>\n",
       "      <td>3213</td>\n",
       "      <td>Van Vorst Park</td>\n",
       "      <td>40.718489</td>\n",
       "      <td>-74.047727</td>\n",
       "      <td>24605</td>\n",
       "      <td>Subscriber</td>\n",
       "      <td>1962.0</td>\n",
       "      <td>1</td>\n",
       "    </tr>\n",
       "    <tr>\n",
       "      <th>2</th>\n",
       "      <td>202</td>\n",
       "      <td>2016-01-01 00:18:25</td>\n",
       "      <td>2016-01-01 00:21:47</td>\n",
       "      <td>3186</td>\n",
       "      <td>Grove St PATH</td>\n",
       "      <td>40.719586</td>\n",
       "      <td>-74.043117</td>\n",
       "      <td>3213</td>\n",
       "      <td>Van Vorst Park</td>\n",
       "      <td>40.718489</td>\n",
       "      <td>-74.047727</td>\n",
       "      <td>24689</td>\n",
       "      <td>Subscriber</td>\n",
       "      <td>1962.0</td>\n",
       "      <td>2</td>\n",
       "    </tr>\n",
       "    <tr>\n",
       "      <th>3</th>\n",
       "      <td>248</td>\n",
       "      <td>2016-01-01 00:23:13</td>\n",
       "      <td>2016-01-01 00:27:21</td>\n",
       "      <td>3209</td>\n",
       "      <td>Brunswick St</td>\n",
       "      <td>40.724176</td>\n",
       "      <td>-74.050656</td>\n",
       "      <td>3203</td>\n",
       "      <td>Hamilton Park</td>\n",
       "      <td>40.727596</td>\n",
       "      <td>-74.044247</td>\n",
       "      <td>24693</td>\n",
       "      <td>Subscriber</td>\n",
       "      <td>1984.0</td>\n",
       "      <td>1</td>\n",
       "    </tr>\n",
       "    <tr>\n",
       "      <th>4</th>\n",
       "      <td>903</td>\n",
       "      <td>2016-01-01 01:03:20</td>\n",
       "      <td>2016-01-01 01:18:24</td>\n",
       "      <td>3195</td>\n",
       "      <td>Sip Ave</td>\n",
       "      <td>40.730743</td>\n",
       "      <td>-74.063784</td>\n",
       "      <td>3210</td>\n",
       "      <td>Pershing Field</td>\n",
       "      <td>40.742677</td>\n",
       "      <td>-74.051789</td>\n",
       "      <td>24573</td>\n",
       "      <td>Customer</td>\n",
       "      <td>NaN</td>\n",
       "      <td>0</td>\n",
       "    </tr>\n",
       "  </tbody>\n",
       "</table>\n",
       "</div>"
      ],
      "text/plain": [
       "   trip_duration           start_time            stop_time  start_station_id  \\\n",
       "0            362  2016-01-01 00:02:52  2016-01-01 00:08:54              3186   \n",
       "1            200  2016-01-01 00:18:22  2016-01-01 00:21:42              3186   \n",
       "2            202  2016-01-01 00:18:25  2016-01-01 00:21:47              3186   \n",
       "3            248  2016-01-01 00:23:13  2016-01-01 00:27:21              3209   \n",
       "4            903  2016-01-01 01:03:20  2016-01-01 01:18:24              3195   \n",
       "\n",
       "  start_station_name  start_station_latitude  start_station_longitude  \\\n",
       "0      Grove St PATH               40.719586               -74.043117   \n",
       "1      Grove St PATH               40.719586               -74.043117   \n",
       "2      Grove St PATH               40.719586               -74.043117   \n",
       "3       Brunswick St               40.724176               -74.050656   \n",
       "4            Sip Ave               40.730743               -74.063784   \n",
       "\n",
       "   end_station_id end_station_name  start_station_latitude  \\\n",
       "0            3209     Brunswick St               40.724176   \n",
       "1            3213   Van Vorst Park               40.718489   \n",
       "2            3213   Van Vorst Park               40.718489   \n",
       "3            3203    Hamilton Park               40.727596   \n",
       "4            3210   Pershing Field               40.742677   \n",
       "\n",
       "   start_station_longitude  bike_id   user_type  birth_year  gender  \n",
       "0               -74.050656    24647  Subscriber      1964.0       2  \n",
       "1               -74.047727    24605  Subscriber      1962.0       1  \n",
       "2               -74.047727    24689  Subscriber      1962.0       2  \n",
       "3               -74.044247    24693  Subscriber      1984.0       1  \n",
       "4               -74.051789    24573    Customer         NaN       0  "
      ]
     },
     "execution_count": 136,
     "metadata": {},
     "output_type": "execute_result"
    }
   ],
   "source": [
    "citi_bike_df.head()"
   ]
  },
  {
   "cell_type": "code",
   "execution_count": 137,
   "id": "1b5589b5",
   "metadata": {},
   "outputs": [
    {
     "name": "stdout",
     "output_type": "stream",
     "text": [
      "<class 'pandas.core.frame.DataFrame'>\n",
      "RangeIndex: 247584 entries, 0 to 247583\n",
      "Data columns (total 15 columns):\n",
      " #   Column                   Non-Null Count   Dtype  \n",
      "---  ------                   --------------   -----  \n",
      " 0   trip_duration            247584 non-null  int64  \n",
      " 1   start_time               247584 non-null  object \n",
      " 2   stop_time                247584 non-null  object \n",
      " 3   start_station_id         247584 non-null  int64  \n",
      " 4   start_station_name       247584 non-null  object \n",
      " 5   start_station_latitude   247584 non-null  float64\n",
      " 6   start_station_longitude  247584 non-null  float64\n",
      " 7   end_station_id           247584 non-null  int64  \n",
      " 8   end_station_name         247584 non-null  object \n",
      " 9   start_station_latitude   247584 non-null  float64\n",
      " 10  start_station_longitude  247584 non-null  float64\n",
      " 11  bike_id                  247584 non-null  int64  \n",
      " 12  user_type                247204 non-null  object \n",
      " 13  birth_year               228585 non-null  float64\n",
      " 14  gender                   247584 non-null  int64  \n",
      "dtypes: float64(5), int64(5), object(5)\n",
      "memory usage: 28.3+ MB\n"
     ]
    }
   ],
   "source": [
    "citi_bike_df.info()"
   ]
  },
  {
   "cell_type": "code",
   "execution_count": 138,
   "id": "b900776c",
   "metadata": {},
   "outputs": [
    {
     "data": {
      "application/vnd.microsoft.datawrangler.viewer.v0+json": {
       "columns": [
        {
         "name": "index",
         "rawType": "object",
         "type": "string"
        },
        {
         "name": "0",
         "rawType": "int64",
         "type": "integer"
        }
       ],
       "ref": "08d34edd-da60-4b1c-9007-5b6e7090cf5f",
       "rows": [
        [
         "trip_duration",
         "0"
        ],
        [
         "start_time",
         "0"
        ],
        [
         "stop_time",
         "0"
        ],
        [
         "start_station_id",
         "0"
        ],
        [
         "start_station_name",
         "0"
        ],
        [
         "start_station_latitude",
         "0"
        ],
        [
         "start_station_longitude",
         "0"
        ],
        [
         "end_station_id",
         "0"
        ],
        [
         "end_station_name",
         "0"
        ],
        [
         "start_station_latitude",
         "0"
        ],
        [
         "start_station_longitude",
         "0"
        ],
        [
         "bike_id",
         "0"
        ],
        [
         "user_type",
         "380"
        ],
        [
         "birth_year",
         "18999"
        ],
        [
         "gender",
         "0"
        ]
       ],
       "shape": {
        "columns": 1,
        "rows": 15
       }
      },
      "text/plain": [
       "trip_duration                  0\n",
       "start_time                     0\n",
       "stop_time                      0\n",
       "start_station_id               0\n",
       "start_station_name             0\n",
       "start_station_latitude         0\n",
       "start_station_longitude        0\n",
       "end_station_id                 0\n",
       "end_station_name               0\n",
       "start_station_latitude         0\n",
       "start_station_longitude        0\n",
       "bike_id                        0\n",
       "user_type                    380\n",
       "birth_year                 18999\n",
       "gender                         0\n",
       "dtype: int64"
      ]
     },
     "execution_count": 138,
     "metadata": {},
     "output_type": "execute_result"
    }
   ],
   "source": [
    "citi_bike_df.isna().sum()"
   ]
  },
  {
   "cell_type": "code",
   "execution_count": 139,
   "id": "a343869d",
   "metadata": {},
   "outputs": [
    {
     "data": {
      "application/vnd.microsoft.datawrangler.viewer.v0+json": {
       "columns": [
        {
         "name": "index",
         "rawType": "object",
         "type": "string"
        },
        {
         "name": "trip_duration",
         "rawType": "float64",
         "type": "float"
        },
        {
         "name": "start_station_id",
         "rawType": "float64",
         "type": "float"
        },
        {
         "name": "start_station_latitude",
         "rawType": "float64",
         "type": "float"
        },
        {
         "name": "start_station_longitude",
         "rawType": "float64",
         "type": "float"
        },
        {
         "name": "end_station_id",
         "rawType": "float64",
         "type": "float"
        },
        {
         "name": "start_station_latitude",
         "rawType": "float64",
         "type": "float"
        },
        {
         "name": "start_station_longitude",
         "rawType": "float64",
         "type": "float"
        },
        {
         "name": "bike_id",
         "rawType": "float64",
         "type": "float"
        },
        {
         "name": "birth_year",
         "rawType": "float64",
         "type": "float"
        },
        {
         "name": "gender",
         "rawType": "float64",
         "type": "float"
        }
       ],
       "ref": "501b1c2c-65be-4bc3-b3c2-c8f57b8d27bb",
       "rows": [
        [
         "count",
         "247584.0",
         "247584.0",
         "247584.0",
         "247584.0",
         "247584.0",
         "247584.0",
         "247584.0",
         "247584.0",
         "228585.0",
         "247584.0"
        ],
        [
         "mean",
         "885.6305334755073",
         "3207.0652061522555",
         "40.723121171401125",
         "-74.04643807539053",
         "3203.5725531536773",
         "40.72259405176191",
         "-74.04585519354211",
         "24935.2604812912",
         "1979.3352757180041",
         "1.1235338309422256"
        ],
        [
         "std",
         "35937.976494233175",
         "26.955103066090373",
         "0.008198803412355599",
         "0.011210846906947953",
         "61.579494025520866",
         "0.007958080028876728",
         "0.011282958738051999",
         "748.469711983546",
         "9.596809168288319",
         "0.5186867169143053"
        ],
        [
         "min",
         "61.0",
         "3183.0",
         "40.69263996618329",
         "-74.0969366",
         "147.0",
         "40.69221589",
         "-74.0969366",
         "14552.0",
         "1900.0",
         "0.0"
        ],
        [
         "25%",
         "248.0",
         "3186.0",
         "40.7177325",
         "-74.0506564",
         "3186.0",
         "40.71653978099194",
         "-74.050443636",
         "24491.0",
         "1974.0",
         "1.0"
        ],
        [
         "50%",
         "390.0",
         "3201.0",
         "40.72152515",
         "-74.044247311",
         "3199.0",
         "40.7211236",
         "-74.04311746358871",
         "24609.0",
         "1981.0",
         "1.0"
        ],
        [
         "75%",
         "666.0",
         "3211.0",
         "40.727595966",
         "-74.03805095",
         "3211.0",
         "40.7272235",
         "-74.0364857",
         "24719.0",
         "1986.0",
         "1.0"
        ],
        [
         "max",
         "16329808.0",
         "3426.0",
         "40.752559",
         "-74.0321082",
         "3426.0",
         "40.8013434",
         "-73.95739",
         "27274.0",
         "2000.0",
         "2.0"
        ]
       ],
       "shape": {
        "columns": 10,
        "rows": 8
       }
      },
      "text/html": [
       "<div>\n",
       "<style scoped>\n",
       "    .dataframe tbody tr th:only-of-type {\n",
       "        vertical-align: middle;\n",
       "    }\n",
       "\n",
       "    .dataframe tbody tr th {\n",
       "        vertical-align: top;\n",
       "    }\n",
       "\n",
       "    .dataframe thead th {\n",
       "        text-align: right;\n",
       "    }\n",
       "</style>\n",
       "<table border=\"1\" class=\"dataframe\">\n",
       "  <thead>\n",
       "    <tr style=\"text-align: right;\">\n",
       "      <th></th>\n",
       "      <th>trip_duration</th>\n",
       "      <th>start_station_id</th>\n",
       "      <th>start_station_latitude</th>\n",
       "      <th>start_station_longitude</th>\n",
       "      <th>end_station_id</th>\n",
       "      <th>start_station_latitude</th>\n",
       "      <th>start_station_longitude</th>\n",
       "      <th>bike_id</th>\n",
       "      <th>birth_year</th>\n",
       "      <th>gender</th>\n",
       "    </tr>\n",
       "  </thead>\n",
       "  <tbody>\n",
       "    <tr>\n",
       "      <th>count</th>\n",
       "      <td>2.475840e+05</td>\n",
       "      <td>247584.000000</td>\n",
       "      <td>247584.000000</td>\n",
       "      <td>247584.000000</td>\n",
       "      <td>247584.000000</td>\n",
       "      <td>247584.000000</td>\n",
       "      <td>247584.000000</td>\n",
       "      <td>247584.000000</td>\n",
       "      <td>228585.000000</td>\n",
       "      <td>247584.000000</td>\n",
       "    </tr>\n",
       "    <tr>\n",
       "      <th>mean</th>\n",
       "      <td>8.856305e+02</td>\n",
       "      <td>3207.065206</td>\n",
       "      <td>40.723121</td>\n",
       "      <td>-74.046438</td>\n",
       "      <td>3203.572553</td>\n",
       "      <td>40.722594</td>\n",
       "      <td>-74.045855</td>\n",
       "      <td>24935.260481</td>\n",
       "      <td>1979.335276</td>\n",
       "      <td>1.123534</td>\n",
       "    </tr>\n",
       "    <tr>\n",
       "      <th>std</th>\n",
       "      <td>3.593798e+04</td>\n",
       "      <td>26.955103</td>\n",
       "      <td>0.008199</td>\n",
       "      <td>0.011211</td>\n",
       "      <td>61.579494</td>\n",
       "      <td>0.007958</td>\n",
       "      <td>0.011283</td>\n",
       "      <td>748.469712</td>\n",
       "      <td>9.596809</td>\n",
       "      <td>0.518687</td>\n",
       "    </tr>\n",
       "    <tr>\n",
       "      <th>min</th>\n",
       "      <td>6.100000e+01</td>\n",
       "      <td>3183.000000</td>\n",
       "      <td>40.692640</td>\n",
       "      <td>-74.096937</td>\n",
       "      <td>147.000000</td>\n",
       "      <td>40.692216</td>\n",
       "      <td>-74.096937</td>\n",
       "      <td>14552.000000</td>\n",
       "      <td>1900.000000</td>\n",
       "      <td>0.000000</td>\n",
       "    </tr>\n",
       "    <tr>\n",
       "      <th>25%</th>\n",
       "      <td>2.480000e+02</td>\n",
       "      <td>3186.000000</td>\n",
       "      <td>40.717732</td>\n",
       "      <td>-74.050656</td>\n",
       "      <td>3186.000000</td>\n",
       "      <td>40.716540</td>\n",
       "      <td>-74.050444</td>\n",
       "      <td>24491.000000</td>\n",
       "      <td>1974.000000</td>\n",
       "      <td>1.000000</td>\n",
       "    </tr>\n",
       "    <tr>\n",
       "      <th>50%</th>\n",
       "      <td>3.900000e+02</td>\n",
       "      <td>3201.000000</td>\n",
       "      <td>40.721525</td>\n",
       "      <td>-74.044247</td>\n",
       "      <td>3199.000000</td>\n",
       "      <td>40.721124</td>\n",
       "      <td>-74.043117</td>\n",
       "      <td>24609.000000</td>\n",
       "      <td>1981.000000</td>\n",
       "      <td>1.000000</td>\n",
       "    </tr>\n",
       "    <tr>\n",
       "      <th>75%</th>\n",
       "      <td>6.660000e+02</td>\n",
       "      <td>3211.000000</td>\n",
       "      <td>40.727596</td>\n",
       "      <td>-74.038051</td>\n",
       "      <td>3211.000000</td>\n",
       "      <td>40.727224</td>\n",
       "      <td>-74.036486</td>\n",
       "      <td>24719.000000</td>\n",
       "      <td>1986.000000</td>\n",
       "      <td>1.000000</td>\n",
       "    </tr>\n",
       "    <tr>\n",
       "      <th>max</th>\n",
       "      <td>1.632981e+07</td>\n",
       "      <td>3426.000000</td>\n",
       "      <td>40.752559</td>\n",
       "      <td>-74.032108</td>\n",
       "      <td>3426.000000</td>\n",
       "      <td>40.801343</td>\n",
       "      <td>-73.957390</td>\n",
       "      <td>27274.000000</td>\n",
       "      <td>2000.000000</td>\n",
       "      <td>2.000000</td>\n",
       "    </tr>\n",
       "  </tbody>\n",
       "</table>\n",
       "</div>"
      ],
      "text/plain": [
       "       trip_duration  start_station_id  start_station_latitude  \\\n",
       "count   2.475840e+05     247584.000000           247584.000000   \n",
       "mean    8.856305e+02       3207.065206               40.723121   \n",
       "std     3.593798e+04         26.955103                0.008199   \n",
       "min     6.100000e+01       3183.000000               40.692640   \n",
       "25%     2.480000e+02       3186.000000               40.717732   \n",
       "50%     3.900000e+02       3201.000000               40.721525   \n",
       "75%     6.660000e+02       3211.000000               40.727596   \n",
       "max     1.632981e+07       3426.000000               40.752559   \n",
       "\n",
       "       start_station_longitude  end_station_id  start_station_latitude  \\\n",
       "count            247584.000000   247584.000000           247584.000000   \n",
       "mean                -74.046438     3203.572553               40.722594   \n",
       "std                   0.011211       61.579494                0.007958   \n",
       "min                 -74.096937      147.000000               40.692216   \n",
       "25%                 -74.050656     3186.000000               40.716540   \n",
       "50%                 -74.044247     3199.000000               40.721124   \n",
       "75%                 -74.038051     3211.000000               40.727224   \n",
       "max                 -74.032108     3426.000000               40.801343   \n",
       "\n",
       "       start_station_longitude        bike_id     birth_year         gender  \n",
       "count            247584.000000  247584.000000  228585.000000  247584.000000  \n",
       "mean                -74.045855   24935.260481    1979.335276       1.123534  \n",
       "std                   0.011283     748.469712       9.596809       0.518687  \n",
       "min                 -74.096937   14552.000000    1900.000000       0.000000  \n",
       "25%                 -74.050444   24491.000000    1974.000000       1.000000  \n",
       "50%                 -74.043117   24609.000000    1981.000000       1.000000  \n",
       "75%                 -74.036486   24719.000000    1986.000000       1.000000  \n",
       "max                 -73.957390   27274.000000    2000.000000       2.000000  "
      ]
     },
     "execution_count": 139,
     "metadata": {},
     "output_type": "execute_result"
    }
   ],
   "source": [
    "citi_bike_df.describe()"
   ]
  },
  {
   "cell_type": "code",
   "execution_count": 140,
   "id": "536358ff",
   "metadata": {},
   "outputs": [
    {
     "data": {
      "text/plain": [
       "array(['Subscriber', 'Customer', nan], dtype=object)"
      ]
     },
     "execution_count": 140,
     "metadata": {},
     "output_type": "execute_result"
    }
   ],
   "source": [
    "citi_bike_df['user_type'].unique()"
   ]
  },
  {
   "cell_type": "code",
   "execution_count": 141,
   "id": "69701be1",
   "metadata": {},
   "outputs": [],
   "source": [
    "citi_bike_df['user_type'] = citi_bike_df['user_type'].fillna('Unspecified')"
   ]
  },
  {
   "cell_type": "code",
   "execution_count": 142,
   "id": "47d468ce",
   "metadata": {},
   "outputs": [
    {
     "data": {
      "text/plain": [
       "array(['Subscriber', 'Customer', 'Unspecified'], dtype=object)"
      ]
     },
     "execution_count": 142,
     "metadata": {},
     "output_type": "execute_result"
    }
   ],
   "source": [
    "citi_bike_df['user_type'].unique()"
   ]
  },
  {
   "cell_type": "code",
   "execution_count": 143,
   "id": "a9c6adec",
   "metadata": {},
   "outputs": [],
   "source": [
    "citi_bike_df['birth_year'] = citi_bike_df['birth_year'].fillna(0).astype(int)"
   ]
  },
  {
   "cell_type": "code",
   "execution_count": 144,
   "id": "3eb2d0fa",
   "metadata": {},
   "outputs": [
    {
     "data": {
      "application/vnd.microsoft.datawrangler.viewer.v0+json": {
       "columns": [
        {
         "name": "index",
         "rawType": "object",
         "type": "string"
        },
        {
         "name": "0",
         "rawType": "int64",
         "type": "integer"
        }
       ],
       "ref": "eb914532-d91d-42f8-b576-be879eb23bd6",
       "rows": [
        [
         "trip_duration",
         "0"
        ],
        [
         "start_time",
         "0"
        ],
        [
         "stop_time",
         "0"
        ],
        [
         "start_station_id",
         "0"
        ],
        [
         "start_station_name",
         "0"
        ],
        [
         "start_station_latitude",
         "0"
        ],
        [
         "start_station_longitude",
         "0"
        ],
        [
         "end_station_id",
         "0"
        ],
        [
         "end_station_name",
         "0"
        ],
        [
         "start_station_latitude",
         "0"
        ],
        [
         "start_station_longitude",
         "0"
        ],
        [
         "bike_id",
         "0"
        ],
        [
         "user_type",
         "0"
        ],
        [
         "birth_year",
         "0"
        ],
        [
         "gender",
         "0"
        ]
       ],
       "shape": {
        "columns": 1,
        "rows": 15
       }
      },
      "text/plain": [
       "trip_duration              0\n",
       "start_time                 0\n",
       "stop_time                  0\n",
       "start_station_id           0\n",
       "start_station_name         0\n",
       "start_station_latitude     0\n",
       "start_station_longitude    0\n",
       "end_station_id             0\n",
       "end_station_name           0\n",
       "start_station_latitude     0\n",
       "start_station_longitude    0\n",
       "bike_id                    0\n",
       "user_type                  0\n",
       "birth_year                 0\n",
       "gender                     0\n",
       "dtype: int64"
      ]
     },
     "execution_count": 144,
     "metadata": {},
     "output_type": "execute_result"
    }
   ],
   "source": [
    "citi_bike_df.isna().sum()"
   ]
  },
  {
   "cell_type": "code",
   "execution_count": 145,
   "id": "2cb8227f",
   "metadata": {},
   "outputs": [
    {
     "data": {
      "application/vnd.microsoft.datawrangler.viewer.v0+json": {
       "columns": [
        {
         "name": "index",
         "rawType": "int64",
         "type": "integer"
        },
        {
         "name": "trip_duration",
         "rawType": "int64",
         "type": "integer"
        },
        {
         "name": "start_time",
         "rawType": "object",
         "type": "string"
        },
        {
         "name": "stop_time",
         "rawType": "object",
         "type": "string"
        },
        {
         "name": "start_station_id",
         "rawType": "int64",
         "type": "integer"
        },
        {
         "name": "start_station_name",
         "rawType": "object",
         "type": "string"
        },
        {
         "name": "start_station_latitude",
         "rawType": "float64",
         "type": "float"
        },
        {
         "name": "start_station_longitude",
         "rawType": "float64",
         "type": "float"
        },
        {
         "name": "end_station_id",
         "rawType": "int64",
         "type": "integer"
        },
        {
         "name": "end_station_name",
         "rawType": "object",
         "type": "string"
        },
        {
         "name": "start_station_latitude",
         "rawType": "float64",
         "type": "float"
        },
        {
         "name": "start_station_longitude",
         "rawType": "float64",
         "type": "float"
        },
        {
         "name": "bike_id",
         "rawType": "int64",
         "type": "integer"
        },
        {
         "name": "user_type",
         "rawType": "object",
         "type": "string"
        },
        {
         "name": "birth_year",
         "rawType": "int64",
         "type": "integer"
        },
        {
         "name": "gender",
         "rawType": "int64",
         "type": "integer"
        }
       ],
       "ref": "999c199b-e0c4-41f5-9176-69a97b3297c9",
       "rows": [
        [
         "0",
         "362",
         "2016-01-01 00:02:52",
         "2016-01-01 00:08:54",
         "3186",
         "Grove St PATH",
         "40.71958611647166",
         "-74.04311746358871",
         "3209",
         "Brunswick St",
         "40.7241765",
         "-74.0506564",
         "24647",
         "Subscriber",
         "1964",
         "2"
        ],
        [
         "1",
         "200",
         "2016-01-01 00:18:22",
         "2016-01-01 00:21:42",
         "3186",
         "Grove St PATH",
         "40.71958611647166",
         "-74.04311746358871",
         "3213",
         "Van Vorst Park",
         "40.71848892",
         "-74.047726625",
         "24605",
         "Subscriber",
         "1962",
         "1"
        ],
        [
         "2",
         "202",
         "2016-01-01 00:18:25",
         "2016-01-01 00:21:47",
         "3186",
         "Grove St PATH",
         "40.71958611647166",
         "-74.04311746358871",
         "3213",
         "Van Vorst Park",
         "40.71848892",
         "-74.047726625",
         "24689",
         "Subscriber",
         "1962",
         "2"
        ],
        [
         "3",
         "248",
         "2016-01-01 00:23:13",
         "2016-01-01 00:27:21",
         "3209",
         "Brunswick St",
         "40.7241765",
         "-74.0506564",
         "3203",
         "Hamilton Park",
         "40.727595966",
         "-74.044247311",
         "24693",
         "Subscriber",
         "1984",
         "1"
        ],
        [
         "4",
         "903",
         "2016-01-01 01:03:20",
         "2016-01-01 01:18:24",
         "3195",
         "Sip Ave",
         "40.73074262530658",
         "-74.06378388404846",
         "3210",
         "Pershing Field",
         "40.742677141",
         "-74.051788633",
         "24573",
         "Customer",
         "0",
         "0"
        ]
       ],
       "shape": {
        "columns": 15,
        "rows": 5
       }
      },
      "text/html": [
       "<div>\n",
       "<style scoped>\n",
       "    .dataframe tbody tr th:only-of-type {\n",
       "        vertical-align: middle;\n",
       "    }\n",
       "\n",
       "    .dataframe tbody tr th {\n",
       "        vertical-align: top;\n",
       "    }\n",
       "\n",
       "    .dataframe thead th {\n",
       "        text-align: right;\n",
       "    }\n",
       "</style>\n",
       "<table border=\"1\" class=\"dataframe\">\n",
       "  <thead>\n",
       "    <tr style=\"text-align: right;\">\n",
       "      <th></th>\n",
       "      <th>trip_duration</th>\n",
       "      <th>start_time</th>\n",
       "      <th>stop_time</th>\n",
       "      <th>start_station_id</th>\n",
       "      <th>start_station_name</th>\n",
       "      <th>start_station_latitude</th>\n",
       "      <th>start_station_longitude</th>\n",
       "      <th>end_station_id</th>\n",
       "      <th>end_station_name</th>\n",
       "      <th>start_station_latitude</th>\n",
       "      <th>start_station_longitude</th>\n",
       "      <th>bike_id</th>\n",
       "      <th>user_type</th>\n",
       "      <th>birth_year</th>\n",
       "      <th>gender</th>\n",
       "    </tr>\n",
       "  </thead>\n",
       "  <tbody>\n",
       "    <tr>\n",
       "      <th>0</th>\n",
       "      <td>362</td>\n",
       "      <td>2016-01-01 00:02:52</td>\n",
       "      <td>2016-01-01 00:08:54</td>\n",
       "      <td>3186</td>\n",
       "      <td>Grove St PATH</td>\n",
       "      <td>40.719586</td>\n",
       "      <td>-74.043117</td>\n",
       "      <td>3209</td>\n",
       "      <td>Brunswick St</td>\n",
       "      <td>40.724176</td>\n",
       "      <td>-74.050656</td>\n",
       "      <td>24647</td>\n",
       "      <td>Subscriber</td>\n",
       "      <td>1964</td>\n",
       "      <td>2</td>\n",
       "    </tr>\n",
       "    <tr>\n",
       "      <th>1</th>\n",
       "      <td>200</td>\n",
       "      <td>2016-01-01 00:18:22</td>\n",
       "      <td>2016-01-01 00:21:42</td>\n",
       "      <td>3186</td>\n",
       "      <td>Grove St PATH</td>\n",
       "      <td>40.719586</td>\n",
       "      <td>-74.043117</td>\n",
       "      <td>3213</td>\n",
       "      <td>Van Vorst Park</td>\n",
       "      <td>40.718489</td>\n",
       "      <td>-74.047727</td>\n",
       "      <td>24605</td>\n",
       "      <td>Subscriber</td>\n",
       "      <td>1962</td>\n",
       "      <td>1</td>\n",
       "    </tr>\n",
       "    <tr>\n",
       "      <th>2</th>\n",
       "      <td>202</td>\n",
       "      <td>2016-01-01 00:18:25</td>\n",
       "      <td>2016-01-01 00:21:47</td>\n",
       "      <td>3186</td>\n",
       "      <td>Grove St PATH</td>\n",
       "      <td>40.719586</td>\n",
       "      <td>-74.043117</td>\n",
       "      <td>3213</td>\n",
       "      <td>Van Vorst Park</td>\n",
       "      <td>40.718489</td>\n",
       "      <td>-74.047727</td>\n",
       "      <td>24689</td>\n",
       "      <td>Subscriber</td>\n",
       "      <td>1962</td>\n",
       "      <td>2</td>\n",
       "    </tr>\n",
       "    <tr>\n",
       "      <th>3</th>\n",
       "      <td>248</td>\n",
       "      <td>2016-01-01 00:23:13</td>\n",
       "      <td>2016-01-01 00:27:21</td>\n",
       "      <td>3209</td>\n",
       "      <td>Brunswick St</td>\n",
       "      <td>40.724176</td>\n",
       "      <td>-74.050656</td>\n",
       "      <td>3203</td>\n",
       "      <td>Hamilton Park</td>\n",
       "      <td>40.727596</td>\n",
       "      <td>-74.044247</td>\n",
       "      <td>24693</td>\n",
       "      <td>Subscriber</td>\n",
       "      <td>1984</td>\n",
       "      <td>1</td>\n",
       "    </tr>\n",
       "    <tr>\n",
       "      <th>4</th>\n",
       "      <td>903</td>\n",
       "      <td>2016-01-01 01:03:20</td>\n",
       "      <td>2016-01-01 01:18:24</td>\n",
       "      <td>3195</td>\n",
       "      <td>Sip Ave</td>\n",
       "      <td>40.730743</td>\n",
       "      <td>-74.063784</td>\n",
       "      <td>3210</td>\n",
       "      <td>Pershing Field</td>\n",
       "      <td>40.742677</td>\n",
       "      <td>-74.051789</td>\n",
       "      <td>24573</td>\n",
       "      <td>Customer</td>\n",
       "      <td>0</td>\n",
       "      <td>0</td>\n",
       "    </tr>\n",
       "  </tbody>\n",
       "</table>\n",
       "</div>"
      ],
      "text/plain": [
       "   trip_duration           start_time            stop_time  start_station_id  \\\n",
       "0            362  2016-01-01 00:02:52  2016-01-01 00:08:54              3186   \n",
       "1            200  2016-01-01 00:18:22  2016-01-01 00:21:42              3186   \n",
       "2            202  2016-01-01 00:18:25  2016-01-01 00:21:47              3186   \n",
       "3            248  2016-01-01 00:23:13  2016-01-01 00:27:21              3209   \n",
       "4            903  2016-01-01 01:03:20  2016-01-01 01:18:24              3195   \n",
       "\n",
       "  start_station_name  start_station_latitude  start_station_longitude  \\\n",
       "0      Grove St PATH               40.719586               -74.043117   \n",
       "1      Grove St PATH               40.719586               -74.043117   \n",
       "2      Grove St PATH               40.719586               -74.043117   \n",
       "3       Brunswick St               40.724176               -74.050656   \n",
       "4            Sip Ave               40.730743               -74.063784   \n",
       "\n",
       "   end_station_id end_station_name  start_station_latitude  \\\n",
       "0            3209     Brunswick St               40.724176   \n",
       "1            3213   Van Vorst Park               40.718489   \n",
       "2            3213   Van Vorst Park               40.718489   \n",
       "3            3203    Hamilton Park               40.727596   \n",
       "4            3210   Pershing Field               40.742677   \n",
       "\n",
       "   start_station_longitude  bike_id   user_type  birth_year  gender  \n",
       "0               -74.050656    24647  Subscriber        1964       2  \n",
       "1               -74.047727    24605  Subscriber        1962       1  \n",
       "2               -74.047727    24689  Subscriber        1962       2  \n",
       "3               -74.044247    24693  Subscriber        1984       1  \n",
       "4               -74.051789    24573    Customer           0       0  "
      ]
     },
     "execution_count": 145,
     "metadata": {},
     "output_type": "execute_result"
    }
   ],
   "source": [
    "citi_bike_df.head()"
   ]
  },
  {
   "cell_type": "code",
   "execution_count": 146,
   "id": "5e8d4c63",
   "metadata": {},
   "outputs": [
    {
     "data": {
      "text/plain": [
       "array([2, 1, 0])"
      ]
     },
     "execution_count": 146,
     "metadata": {},
     "output_type": "execute_result"
    }
   ],
   "source": [
    "citi_bike_df['gender'].unique()"
   ]
  },
  {
   "cell_type": "code",
   "execution_count": 147,
   "id": "31e70fb6",
   "metadata": {},
   "outputs": [],
   "source": [
    "citi_bike_df['gender'] = citi_bike_df['gender'].replace(0,'Unknown').astype(str)\n",
    "citi_bike_df['gender'] = citi_bike_df['gender'].replace('1','Male').astype(str)\n",
    "citi_bike_df['gender'] = citi_bike_df['gender'].replace('2','Female').astype(str)\n"
   ]
  },
  {
   "cell_type": "code",
   "execution_count": 148,
   "id": "38945954",
   "metadata": {},
   "outputs": [
    {
     "data": {
      "text/plain": [
       "array(['Female', 'Male', 'Unknown'], dtype=object)"
      ]
     },
     "execution_count": 148,
     "metadata": {},
     "output_type": "execute_result"
    }
   ],
   "source": [
    "citi_bike_df['gender'].unique()"
   ]
  },
  {
   "cell_type": "code",
   "execution_count": 149,
   "id": "5f62f0b8",
   "metadata": {},
   "outputs": [
    {
     "data": {
      "application/vnd.microsoft.datawrangler.viewer.v0+json": {
       "columns": [
        {
         "name": "index",
         "rawType": "int64",
         "type": "integer"
        },
        {
         "name": "trip_duration",
         "rawType": "int64",
         "type": "integer"
        },
        {
         "name": "start_time",
         "rawType": "object",
         "type": "string"
        },
        {
         "name": "stop_time",
         "rawType": "object",
         "type": "string"
        },
        {
         "name": "start_station_id",
         "rawType": "int64",
         "type": "integer"
        },
        {
         "name": "start_station_name",
         "rawType": "object",
         "type": "string"
        },
        {
         "name": "start_station_latitude",
         "rawType": "float64",
         "type": "float"
        },
        {
         "name": "start_station_longitude",
         "rawType": "float64",
         "type": "float"
        },
        {
         "name": "end_station_id",
         "rawType": "int64",
         "type": "integer"
        },
        {
         "name": "end_station_name",
         "rawType": "object",
         "type": "string"
        },
        {
         "name": "start_station_latitude",
         "rawType": "float64",
         "type": "float"
        },
        {
         "name": "start_station_longitude",
         "rawType": "float64",
         "type": "float"
        },
        {
         "name": "bike_id",
         "rawType": "int64",
         "type": "integer"
        },
        {
         "name": "user_type",
         "rawType": "object",
         "type": "string"
        },
        {
         "name": "birth_year",
         "rawType": "int64",
         "type": "integer"
        },
        {
         "name": "gender",
         "rawType": "object",
         "type": "string"
        }
       ],
       "ref": "968a585c-868f-4741-bda5-fa67d2a3d0a1",
       "rows": [
        [
         "0",
         "362",
         "2016-01-01 00:02:52",
         "2016-01-01 00:08:54",
         "3186",
         "Grove St PATH",
         "40.71958611647166",
         "-74.04311746358871",
         "3209",
         "Brunswick St",
         "40.7241765",
         "-74.0506564",
         "24647",
         "Subscriber",
         "1964",
         "Female"
        ],
        [
         "1",
         "200",
         "2016-01-01 00:18:22",
         "2016-01-01 00:21:42",
         "3186",
         "Grove St PATH",
         "40.71958611647166",
         "-74.04311746358871",
         "3213",
         "Van Vorst Park",
         "40.71848892",
         "-74.047726625",
         "24605",
         "Subscriber",
         "1962",
         "Male"
        ],
        [
         "2",
         "202",
         "2016-01-01 00:18:25",
         "2016-01-01 00:21:47",
         "3186",
         "Grove St PATH",
         "40.71958611647166",
         "-74.04311746358871",
         "3213",
         "Van Vorst Park",
         "40.71848892",
         "-74.047726625",
         "24689",
         "Subscriber",
         "1962",
         "Female"
        ],
        [
         "3",
         "248",
         "2016-01-01 00:23:13",
         "2016-01-01 00:27:21",
         "3209",
         "Brunswick St",
         "40.7241765",
         "-74.0506564",
         "3203",
         "Hamilton Park",
         "40.727595966",
         "-74.044247311",
         "24693",
         "Subscriber",
         "1984",
         "Male"
        ],
        [
         "4",
         "903",
         "2016-01-01 01:03:20",
         "2016-01-01 01:18:24",
         "3195",
         "Sip Ave",
         "40.73074262530658",
         "-74.06378388404846",
         "3210",
         "Pershing Field",
         "40.742677141",
         "-74.051788633",
         "24573",
         "Customer",
         "0",
         "Unknown"
        ]
       ],
       "shape": {
        "columns": 15,
        "rows": 5
       }
      },
      "text/html": [
       "<div>\n",
       "<style scoped>\n",
       "    .dataframe tbody tr th:only-of-type {\n",
       "        vertical-align: middle;\n",
       "    }\n",
       "\n",
       "    .dataframe tbody tr th {\n",
       "        vertical-align: top;\n",
       "    }\n",
       "\n",
       "    .dataframe thead th {\n",
       "        text-align: right;\n",
       "    }\n",
       "</style>\n",
       "<table border=\"1\" class=\"dataframe\">\n",
       "  <thead>\n",
       "    <tr style=\"text-align: right;\">\n",
       "      <th></th>\n",
       "      <th>trip_duration</th>\n",
       "      <th>start_time</th>\n",
       "      <th>stop_time</th>\n",
       "      <th>start_station_id</th>\n",
       "      <th>start_station_name</th>\n",
       "      <th>start_station_latitude</th>\n",
       "      <th>start_station_longitude</th>\n",
       "      <th>end_station_id</th>\n",
       "      <th>end_station_name</th>\n",
       "      <th>start_station_latitude</th>\n",
       "      <th>start_station_longitude</th>\n",
       "      <th>bike_id</th>\n",
       "      <th>user_type</th>\n",
       "      <th>birth_year</th>\n",
       "      <th>gender</th>\n",
       "    </tr>\n",
       "  </thead>\n",
       "  <tbody>\n",
       "    <tr>\n",
       "      <th>0</th>\n",
       "      <td>362</td>\n",
       "      <td>2016-01-01 00:02:52</td>\n",
       "      <td>2016-01-01 00:08:54</td>\n",
       "      <td>3186</td>\n",
       "      <td>Grove St PATH</td>\n",
       "      <td>40.719586</td>\n",
       "      <td>-74.043117</td>\n",
       "      <td>3209</td>\n",
       "      <td>Brunswick St</td>\n",
       "      <td>40.724176</td>\n",
       "      <td>-74.050656</td>\n",
       "      <td>24647</td>\n",
       "      <td>Subscriber</td>\n",
       "      <td>1964</td>\n",
       "      <td>Female</td>\n",
       "    </tr>\n",
       "    <tr>\n",
       "      <th>1</th>\n",
       "      <td>200</td>\n",
       "      <td>2016-01-01 00:18:22</td>\n",
       "      <td>2016-01-01 00:21:42</td>\n",
       "      <td>3186</td>\n",
       "      <td>Grove St PATH</td>\n",
       "      <td>40.719586</td>\n",
       "      <td>-74.043117</td>\n",
       "      <td>3213</td>\n",
       "      <td>Van Vorst Park</td>\n",
       "      <td>40.718489</td>\n",
       "      <td>-74.047727</td>\n",
       "      <td>24605</td>\n",
       "      <td>Subscriber</td>\n",
       "      <td>1962</td>\n",
       "      <td>Male</td>\n",
       "    </tr>\n",
       "    <tr>\n",
       "      <th>2</th>\n",
       "      <td>202</td>\n",
       "      <td>2016-01-01 00:18:25</td>\n",
       "      <td>2016-01-01 00:21:47</td>\n",
       "      <td>3186</td>\n",
       "      <td>Grove St PATH</td>\n",
       "      <td>40.719586</td>\n",
       "      <td>-74.043117</td>\n",
       "      <td>3213</td>\n",
       "      <td>Van Vorst Park</td>\n",
       "      <td>40.718489</td>\n",
       "      <td>-74.047727</td>\n",
       "      <td>24689</td>\n",
       "      <td>Subscriber</td>\n",
       "      <td>1962</td>\n",
       "      <td>Female</td>\n",
       "    </tr>\n",
       "    <tr>\n",
       "      <th>3</th>\n",
       "      <td>248</td>\n",
       "      <td>2016-01-01 00:23:13</td>\n",
       "      <td>2016-01-01 00:27:21</td>\n",
       "      <td>3209</td>\n",
       "      <td>Brunswick St</td>\n",
       "      <td>40.724176</td>\n",
       "      <td>-74.050656</td>\n",
       "      <td>3203</td>\n",
       "      <td>Hamilton Park</td>\n",
       "      <td>40.727596</td>\n",
       "      <td>-74.044247</td>\n",
       "      <td>24693</td>\n",
       "      <td>Subscriber</td>\n",
       "      <td>1984</td>\n",
       "      <td>Male</td>\n",
       "    </tr>\n",
       "    <tr>\n",
       "      <th>4</th>\n",
       "      <td>903</td>\n",
       "      <td>2016-01-01 01:03:20</td>\n",
       "      <td>2016-01-01 01:18:24</td>\n",
       "      <td>3195</td>\n",
       "      <td>Sip Ave</td>\n",
       "      <td>40.730743</td>\n",
       "      <td>-74.063784</td>\n",
       "      <td>3210</td>\n",
       "      <td>Pershing Field</td>\n",
       "      <td>40.742677</td>\n",
       "      <td>-74.051789</td>\n",
       "      <td>24573</td>\n",
       "      <td>Customer</td>\n",
       "      <td>0</td>\n",
       "      <td>Unknown</td>\n",
       "    </tr>\n",
       "  </tbody>\n",
       "</table>\n",
       "</div>"
      ],
      "text/plain": [
       "   trip_duration           start_time            stop_time  start_station_id  \\\n",
       "0            362  2016-01-01 00:02:52  2016-01-01 00:08:54              3186   \n",
       "1            200  2016-01-01 00:18:22  2016-01-01 00:21:42              3186   \n",
       "2            202  2016-01-01 00:18:25  2016-01-01 00:21:47              3186   \n",
       "3            248  2016-01-01 00:23:13  2016-01-01 00:27:21              3209   \n",
       "4            903  2016-01-01 01:03:20  2016-01-01 01:18:24              3195   \n",
       "\n",
       "  start_station_name  start_station_latitude  start_station_longitude  \\\n",
       "0      Grove St PATH               40.719586               -74.043117   \n",
       "1      Grove St PATH               40.719586               -74.043117   \n",
       "2      Grove St PATH               40.719586               -74.043117   \n",
       "3       Brunswick St               40.724176               -74.050656   \n",
       "4            Sip Ave               40.730743               -74.063784   \n",
       "\n",
       "   end_station_id end_station_name  start_station_latitude  \\\n",
       "0            3209     Brunswick St               40.724176   \n",
       "1            3213   Van Vorst Park               40.718489   \n",
       "2            3213   Van Vorst Park               40.718489   \n",
       "3            3203    Hamilton Park               40.727596   \n",
       "4            3210   Pershing Field               40.742677   \n",
       "\n",
       "   start_station_longitude  bike_id   user_type  birth_year   gender  \n",
       "0               -74.050656    24647  Subscriber        1964   Female  \n",
       "1               -74.047727    24605  Subscriber        1962     Male  \n",
       "2               -74.047727    24689  Subscriber        1962   Female  \n",
       "3               -74.044247    24693  Subscriber        1984     Male  \n",
       "4               -74.051789    24573    Customer           0  Unknown  "
      ]
     },
     "execution_count": 149,
     "metadata": {},
     "output_type": "execute_result"
    }
   ],
   "source": [
    "citi_bike_df.head()"
   ]
  },
  {
   "cell_type": "code",
   "execution_count": 151,
   "id": "e7b75ff8",
   "metadata": {},
   "outputs": [],
   "source": [
    "for col in citi_bike_df:\n",
    "    try:\n",
    "        if citi_bike_df[col] == 'object':\n",
    "            citi_bike_df[col] = citi_bike_df[col].str.strip()\n",
    "    except:\n",
    "        pass"
   ]
  },
  {
   "cell_type": "code",
   "execution_count": 152,
   "id": "d170a984",
   "metadata": {},
   "outputs": [
    {
     "data": {
      "application/vnd.microsoft.datawrangler.viewer.v0+json": {
       "columns": [
        {
         "name": "index",
         "rawType": "int64",
         "type": "integer"
        },
        {
         "name": "trip_duration",
         "rawType": "int64",
         "type": "integer"
        },
        {
         "name": "start_time",
         "rawType": "object",
         "type": "string"
        },
        {
         "name": "stop_time",
         "rawType": "object",
         "type": "string"
        },
        {
         "name": "start_station_id",
         "rawType": "int64",
         "type": "integer"
        },
        {
         "name": "start_station_name",
         "rawType": "object",
         "type": "string"
        },
        {
         "name": "start_station_latitude",
         "rawType": "float64",
         "type": "float"
        },
        {
         "name": "start_station_longitude",
         "rawType": "float64",
         "type": "float"
        },
        {
         "name": "end_station_id",
         "rawType": "int64",
         "type": "integer"
        },
        {
         "name": "end_station_name",
         "rawType": "object",
         "type": "string"
        },
        {
         "name": "start_station_latitude",
         "rawType": "float64",
         "type": "float"
        },
        {
         "name": "start_station_longitude",
         "rawType": "float64",
         "type": "float"
        },
        {
         "name": "bike_id",
         "rawType": "int64",
         "type": "integer"
        },
        {
         "name": "user_type",
         "rawType": "object",
         "type": "string"
        },
        {
         "name": "birth_year",
         "rawType": "int64",
         "type": "integer"
        },
        {
         "name": "gender",
         "rawType": "object",
         "type": "string"
        }
       ],
       "ref": "0398c8c6-e24e-4a89-9b09-5dadfd2a05d0",
       "rows": [
        [
         "0",
         "362",
         "2016-01-01 00:02:52",
         "2016-01-01 00:08:54",
         "3186",
         "Grove St PATH",
         "40.71958611647166",
         "-74.04311746358871",
         "3209",
         "Brunswick St",
         "40.7241765",
         "-74.0506564",
         "24647",
         "Subscriber",
         "1964",
         "Female"
        ],
        [
         "1",
         "200",
         "2016-01-01 00:18:22",
         "2016-01-01 00:21:42",
         "3186",
         "Grove St PATH",
         "40.71958611647166",
         "-74.04311746358871",
         "3213",
         "Van Vorst Park",
         "40.71848892",
         "-74.047726625",
         "24605",
         "Subscriber",
         "1962",
         "Male"
        ],
        [
         "2",
         "202",
         "2016-01-01 00:18:25",
         "2016-01-01 00:21:47",
         "3186",
         "Grove St PATH",
         "40.71958611647166",
         "-74.04311746358871",
         "3213",
         "Van Vorst Park",
         "40.71848892",
         "-74.047726625",
         "24689",
         "Subscriber",
         "1962",
         "Female"
        ],
        [
         "3",
         "248",
         "2016-01-01 00:23:13",
         "2016-01-01 00:27:21",
         "3209",
         "Brunswick St",
         "40.7241765",
         "-74.0506564",
         "3203",
         "Hamilton Park",
         "40.727595966",
         "-74.044247311",
         "24693",
         "Subscriber",
         "1984",
         "Male"
        ],
        [
         "4",
         "903",
         "2016-01-01 01:03:20",
         "2016-01-01 01:18:24",
         "3195",
         "Sip Ave",
         "40.73074262530658",
         "-74.06378388404846",
         "3210",
         "Pershing Field",
         "40.742677141",
         "-74.051788633",
         "24573",
         "Customer",
         "0",
         "Unknown"
        ]
       ],
       "shape": {
        "columns": 15,
        "rows": 5
       }
      },
      "text/html": [
       "<div>\n",
       "<style scoped>\n",
       "    .dataframe tbody tr th:only-of-type {\n",
       "        vertical-align: middle;\n",
       "    }\n",
       "\n",
       "    .dataframe tbody tr th {\n",
       "        vertical-align: top;\n",
       "    }\n",
       "\n",
       "    .dataframe thead th {\n",
       "        text-align: right;\n",
       "    }\n",
       "</style>\n",
       "<table border=\"1\" class=\"dataframe\">\n",
       "  <thead>\n",
       "    <tr style=\"text-align: right;\">\n",
       "      <th></th>\n",
       "      <th>trip_duration</th>\n",
       "      <th>start_time</th>\n",
       "      <th>stop_time</th>\n",
       "      <th>start_station_id</th>\n",
       "      <th>start_station_name</th>\n",
       "      <th>start_station_latitude</th>\n",
       "      <th>start_station_longitude</th>\n",
       "      <th>end_station_id</th>\n",
       "      <th>end_station_name</th>\n",
       "      <th>start_station_latitude</th>\n",
       "      <th>start_station_longitude</th>\n",
       "      <th>bike_id</th>\n",
       "      <th>user_type</th>\n",
       "      <th>birth_year</th>\n",
       "      <th>gender</th>\n",
       "    </tr>\n",
       "  </thead>\n",
       "  <tbody>\n",
       "    <tr>\n",
       "      <th>0</th>\n",
       "      <td>362</td>\n",
       "      <td>2016-01-01 00:02:52</td>\n",
       "      <td>2016-01-01 00:08:54</td>\n",
       "      <td>3186</td>\n",
       "      <td>Grove St PATH</td>\n",
       "      <td>40.719586</td>\n",
       "      <td>-74.043117</td>\n",
       "      <td>3209</td>\n",
       "      <td>Brunswick St</td>\n",
       "      <td>40.724176</td>\n",
       "      <td>-74.050656</td>\n",
       "      <td>24647</td>\n",
       "      <td>Subscriber</td>\n",
       "      <td>1964</td>\n",
       "      <td>Female</td>\n",
       "    </tr>\n",
       "    <tr>\n",
       "      <th>1</th>\n",
       "      <td>200</td>\n",
       "      <td>2016-01-01 00:18:22</td>\n",
       "      <td>2016-01-01 00:21:42</td>\n",
       "      <td>3186</td>\n",
       "      <td>Grove St PATH</td>\n",
       "      <td>40.719586</td>\n",
       "      <td>-74.043117</td>\n",
       "      <td>3213</td>\n",
       "      <td>Van Vorst Park</td>\n",
       "      <td>40.718489</td>\n",
       "      <td>-74.047727</td>\n",
       "      <td>24605</td>\n",
       "      <td>Subscriber</td>\n",
       "      <td>1962</td>\n",
       "      <td>Male</td>\n",
       "    </tr>\n",
       "    <tr>\n",
       "      <th>2</th>\n",
       "      <td>202</td>\n",
       "      <td>2016-01-01 00:18:25</td>\n",
       "      <td>2016-01-01 00:21:47</td>\n",
       "      <td>3186</td>\n",
       "      <td>Grove St PATH</td>\n",
       "      <td>40.719586</td>\n",
       "      <td>-74.043117</td>\n",
       "      <td>3213</td>\n",
       "      <td>Van Vorst Park</td>\n",
       "      <td>40.718489</td>\n",
       "      <td>-74.047727</td>\n",
       "      <td>24689</td>\n",
       "      <td>Subscriber</td>\n",
       "      <td>1962</td>\n",
       "      <td>Female</td>\n",
       "    </tr>\n",
       "    <tr>\n",
       "      <th>3</th>\n",
       "      <td>248</td>\n",
       "      <td>2016-01-01 00:23:13</td>\n",
       "      <td>2016-01-01 00:27:21</td>\n",
       "      <td>3209</td>\n",
       "      <td>Brunswick St</td>\n",
       "      <td>40.724176</td>\n",
       "      <td>-74.050656</td>\n",
       "      <td>3203</td>\n",
       "      <td>Hamilton Park</td>\n",
       "      <td>40.727596</td>\n",
       "      <td>-74.044247</td>\n",
       "      <td>24693</td>\n",
       "      <td>Subscriber</td>\n",
       "      <td>1984</td>\n",
       "      <td>Male</td>\n",
       "    </tr>\n",
       "    <tr>\n",
       "      <th>4</th>\n",
       "      <td>903</td>\n",
       "      <td>2016-01-01 01:03:20</td>\n",
       "      <td>2016-01-01 01:18:24</td>\n",
       "      <td>3195</td>\n",
       "      <td>Sip Ave</td>\n",
       "      <td>40.730743</td>\n",
       "      <td>-74.063784</td>\n",
       "      <td>3210</td>\n",
       "      <td>Pershing Field</td>\n",
       "      <td>40.742677</td>\n",
       "      <td>-74.051789</td>\n",
       "      <td>24573</td>\n",
       "      <td>Customer</td>\n",
       "      <td>0</td>\n",
       "      <td>Unknown</td>\n",
       "    </tr>\n",
       "  </tbody>\n",
       "</table>\n",
       "</div>"
      ],
      "text/plain": [
       "   trip_duration           start_time            stop_time  start_station_id  \\\n",
       "0            362  2016-01-01 00:02:52  2016-01-01 00:08:54              3186   \n",
       "1            200  2016-01-01 00:18:22  2016-01-01 00:21:42              3186   \n",
       "2            202  2016-01-01 00:18:25  2016-01-01 00:21:47              3186   \n",
       "3            248  2016-01-01 00:23:13  2016-01-01 00:27:21              3209   \n",
       "4            903  2016-01-01 01:03:20  2016-01-01 01:18:24              3195   \n",
       "\n",
       "  start_station_name  start_station_latitude  start_station_longitude  \\\n",
       "0      Grove St PATH               40.719586               -74.043117   \n",
       "1      Grove St PATH               40.719586               -74.043117   \n",
       "2      Grove St PATH               40.719586               -74.043117   \n",
       "3       Brunswick St               40.724176               -74.050656   \n",
       "4            Sip Ave               40.730743               -74.063784   \n",
       "\n",
       "   end_station_id end_station_name  start_station_latitude  \\\n",
       "0            3209     Brunswick St               40.724176   \n",
       "1            3213   Van Vorst Park               40.718489   \n",
       "2            3213   Van Vorst Park               40.718489   \n",
       "3            3203    Hamilton Park               40.727596   \n",
       "4            3210   Pershing Field               40.742677   \n",
       "\n",
       "   start_station_longitude  bike_id   user_type  birth_year   gender  \n",
       "0               -74.050656    24647  Subscriber        1964   Female  \n",
       "1               -74.047727    24605  Subscriber        1962     Male  \n",
       "2               -74.047727    24689  Subscriber        1962   Female  \n",
       "3               -74.044247    24693  Subscriber        1984     Male  \n",
       "4               -74.051789    24573    Customer           0  Unknown  "
      ]
     },
     "execution_count": 152,
     "metadata": {},
     "output_type": "execute_result"
    }
   ],
   "source": [
    "citi_bike_df.head()"
   ]
  },
  {
   "cell_type": "markdown",
   "id": "022762e8",
   "metadata": {},
   "source": [
    "### Read weather data"
   ]
  }
 ],
 "metadata": {
  "kernelspec": {
   "display_name": "Python 3 (ipykernel)",
   "language": "python",
   "name": "python3"
  },
  "language_info": {
   "codemirror_mode": {
    "name": "ipython",
    "version": 3
   },
   "file_extension": ".py",
   "mimetype": "text/x-python",
   "name": "python",
   "nbconvert_exporter": "python",
   "pygments_lexer": "ipython3",
   "version": "3.11.13"
  }
 },
 "nbformat": 4,
 "nbformat_minor": 5
}
